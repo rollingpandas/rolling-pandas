{
 "cells": [
  {
   "cell_type": "code",
   "execution_count": 4,
   "metadata": {},
   "outputs": [
    {
     "name": "stdout",
     "output_type": "stream",
     "text": [
      "The autoreload extension is already loaded. To reload it, use:\n",
      "  %reload_ext autoreload\n"
     ]
    }
   ],
   "source": [
    "%load_ext autoreload\n",
    "%autoreload 2\n",
    "%reload_ext autoreload\n",
    "import rolling_pandas as rp"
   ]
  },
  {
   "cell_type": "code",
   "execution_count": 5,
   "metadata": {},
   "outputs": [],
   "source": [
    "import matplotlib.pyplot as plt\n",
    "import numpy as np\n",
    "import fix_yahoo_finance as yf"
   ]
  },
  {
   "cell_type": "code",
   "execution_count": 27,
   "metadata": {},
   "outputs": [
    {
     "name": "stdout",
     "output_type": "stream",
     "text": [
      "[*********************100%***********************]  1 of 1 downloaded\n",
      "[*********************100%***********************]  1 of 1 downloaded\n",
      "[*********************100%***********************]  1 of 1 downloaded\n",
      "[*********************100%***********************]  1 of 1 downloaded\n"
     ]
    }
   ],
   "source": [
    "dt_beg = '2000-01-01'\n",
    "dt_end = '2017-12-31'\n",
    "\n",
    "aapl = yf.download('AAPL', dt_beg, dt_end)\n",
    "msft = yf.download('MSFT', dt_beg, dt_end)\n",
    "spy = yf.download('SPY', dt_beg, dt_end)\n",
    "ief = yf.download('IEF', dt_beg, dt_end)"
   ]
  },
  {
   "cell_type": "code",
   "execution_count": 7,
   "metadata": {},
   "outputs": [
    {
     "data": {
      "text/html": [
       "<div>\n",
       "<style scoped>\n",
       "    .dataframe tbody tr th:only-of-type {\n",
       "        vertical-align: middle;\n",
       "    }\n",
       "\n",
       "    .dataframe tbody tr th {\n",
       "        vertical-align: top;\n",
       "    }\n",
       "\n",
       "    .dataframe thead th {\n",
       "        text-align: right;\n",
       "    }\n",
       "</style>\n",
       "<table border=\"1\" class=\"dataframe\">\n",
       "  <thead>\n",
       "    <tr style=\"text-align: right;\">\n",
       "      <th></th>\n",
       "      <th>Open</th>\n",
       "      <th>High</th>\n",
       "      <th>Low</th>\n",
       "      <th>Close</th>\n",
       "      <th>Adj Close</th>\n",
       "      <th>Volume</th>\n",
       "    </tr>\n",
       "    <tr>\n",
       "      <th>Date</th>\n",
       "      <th></th>\n",
       "      <th></th>\n",
       "      <th></th>\n",
       "      <th></th>\n",
       "      <th></th>\n",
       "      <th></th>\n",
       "    </tr>\n",
       "  </thead>\n",
       "  <tbody>\n",
       "    <tr>\n",
       "      <th>2000-01-03</th>\n",
       "      <td>3.745536</td>\n",
       "      <td>4.017857</td>\n",
       "      <td>3.631696</td>\n",
       "      <td>3.997768</td>\n",
       "      <td>2.677157</td>\n",
       "      <td>133949200</td>\n",
       "    </tr>\n",
       "    <tr>\n",
       "      <th>2000-01-04</th>\n",
       "      <td>3.866071</td>\n",
       "      <td>3.950893</td>\n",
       "      <td>3.613839</td>\n",
       "      <td>3.660714</td>\n",
       "      <td>2.451444</td>\n",
       "      <td>128094400</td>\n",
       "    </tr>\n",
       "    <tr>\n",
       "      <th>2000-01-05</th>\n",
       "      <td>3.705357</td>\n",
       "      <td>3.948661</td>\n",
       "      <td>3.678571</td>\n",
       "      <td>3.714286</td>\n",
       "      <td>2.487319</td>\n",
       "      <td>194580400</td>\n",
       "    </tr>\n",
       "    <tr>\n",
       "      <th>2000-01-06</th>\n",
       "      <td>3.790179</td>\n",
       "      <td>3.821429</td>\n",
       "      <td>3.392857</td>\n",
       "      <td>3.392857</td>\n",
       "      <td>2.272070</td>\n",
       "      <td>191993200</td>\n",
       "    </tr>\n",
       "    <tr>\n",
       "      <th>2000-01-07</th>\n",
       "      <td>3.446429</td>\n",
       "      <td>3.607143</td>\n",
       "      <td>3.410714</td>\n",
       "      <td>3.553571</td>\n",
       "      <td>2.379695</td>\n",
       "      <td>115183600</td>\n",
       "    </tr>\n",
       "    <tr>\n",
       "      <th>2000-01-10</th>\n",
       "      <td>3.642857</td>\n",
       "      <td>3.651786</td>\n",
       "      <td>3.383929</td>\n",
       "      <td>3.491071</td>\n",
       "      <td>2.337840</td>\n",
       "      <td>126266000</td>\n",
       "    </tr>\n",
       "    <tr>\n",
       "      <th>2000-01-11</th>\n",
       "      <td>3.426339</td>\n",
       "      <td>3.549107</td>\n",
       "      <td>3.232143</td>\n",
       "      <td>3.312500</td>\n",
       "      <td>2.218258</td>\n",
       "      <td>110387200</td>\n",
       "    </tr>\n",
       "    <tr>\n",
       "      <th>2000-01-12</th>\n",
       "      <td>3.392857</td>\n",
       "      <td>3.410714</td>\n",
       "      <td>3.089286</td>\n",
       "      <td>3.113839</td>\n",
       "      <td>2.085222</td>\n",
       "      <td>244017200</td>\n",
       "    </tr>\n",
       "    <tr>\n",
       "      <th>2000-01-13</th>\n",
       "      <td>3.374439</td>\n",
       "      <td>3.526786</td>\n",
       "      <td>3.303571</td>\n",
       "      <td>3.455357</td>\n",
       "      <td>2.313924</td>\n",
       "      <td>258171200</td>\n",
       "    </tr>\n",
       "    <tr>\n",
       "      <th>2000-01-14</th>\n",
       "      <td>3.571429</td>\n",
       "      <td>3.651786</td>\n",
       "      <td>3.549107</td>\n",
       "      <td>3.587054</td>\n",
       "      <td>2.402116</td>\n",
       "      <td>97594000</td>\n",
       "    </tr>\n",
       "  </tbody>\n",
       "</table>\n",
       "</div>"
      ],
      "text/plain": [
       "                Open      High       Low     Close  Adj Close     Volume\n",
       "Date                                                                    \n",
       "2000-01-03  3.745536  4.017857  3.631696  3.997768   2.677157  133949200\n",
       "2000-01-04  3.866071  3.950893  3.613839  3.660714   2.451444  128094400\n",
       "2000-01-05  3.705357  3.948661  3.678571  3.714286   2.487319  194580400\n",
       "2000-01-06  3.790179  3.821429  3.392857  3.392857   2.272070  191993200\n",
       "2000-01-07  3.446429  3.607143  3.410714  3.553571   2.379695  115183600\n",
       "2000-01-10  3.642857  3.651786  3.383929  3.491071   2.337840  126266000\n",
       "2000-01-11  3.426339  3.549107  3.232143  3.312500   2.218258  110387200\n",
       "2000-01-12  3.392857  3.410714  3.089286  3.113839   2.085222  244017200\n",
       "2000-01-13  3.374439  3.526786  3.303571  3.455357   2.313924  258171200\n",
       "2000-01-14  3.571429  3.651786  3.549107  3.587054   2.402116   97594000"
      ]
     },
     "execution_count": 7,
     "metadata": {},
     "output_type": "execute_result"
    }
   ],
   "source": [
    "aapl.head(10)"
   ]
  },
  {
   "cell_type": "code",
   "execution_count": 9,
   "metadata": {},
   "outputs": [
    {
     "data": {
      "text/html": [
       "<div>\n",
       "<style scoped>\n",
       "    .dataframe tbody tr th:only-of-type {\n",
       "        vertical-align: middle;\n",
       "    }\n",
       "\n",
       "    .dataframe tbody tr th {\n",
       "        vertical-align: top;\n",
       "    }\n",
       "\n",
       "    .dataframe thead th {\n",
       "        text-align: right;\n",
       "    }\n",
       "</style>\n",
       "<table border=\"1\" class=\"dataframe\">\n",
       "  <thead>\n",
       "    <tr style=\"text-align: right;\">\n",
       "      <th></th>\n",
       "      <th>Open</th>\n",
       "      <th>High</th>\n",
       "      <th>Low</th>\n",
       "      <th>Close</th>\n",
       "      <th>Adj Close</th>\n",
       "      <th>Volume</th>\n",
       "    </tr>\n",
       "    <tr>\n",
       "      <th>Date</th>\n",
       "      <th></th>\n",
       "      <th></th>\n",
       "      <th></th>\n",
       "      <th></th>\n",
       "      <th></th>\n",
       "      <th></th>\n",
       "    </tr>\n",
       "  </thead>\n",
       "  <tbody>\n",
       "    <tr>\n",
       "      <th>2000-01-03</th>\n",
       "      <td>NaN</td>\n",
       "      <td>NaN</td>\n",
       "      <td>NaN</td>\n",
       "      <td>NaN</td>\n",
       "      <td>NaN</td>\n",
       "      <td>NaN</td>\n",
       "    </tr>\n",
       "    <tr>\n",
       "      <th>2000-01-04</th>\n",
       "      <td>7.611607</td>\n",
       "      <td>7.968750</td>\n",
       "      <td>7.245535</td>\n",
       "      <td>7.658482</td>\n",
       "      <td>5.128601</td>\n",
       "      <td>262043600.0</td>\n",
       "    </tr>\n",
       "    <tr>\n",
       "      <th>2000-01-05</th>\n",
       "      <td>7.571428</td>\n",
       "      <td>7.899554</td>\n",
       "      <td>7.292410</td>\n",
       "      <td>7.375000</td>\n",
       "      <td>4.938763</td>\n",
       "      <td>322674800.0</td>\n",
       "    </tr>\n",
       "    <tr>\n",
       "      <th>2000-01-06</th>\n",
       "      <td>7.495536</td>\n",
       "      <td>7.770090</td>\n",
       "      <td>7.071428</td>\n",
       "      <td>7.107143</td>\n",
       "      <td>4.759389</td>\n",
       "      <td>386573600.0</td>\n",
       "    </tr>\n",
       "    <tr>\n",
       "      <th>2000-01-07</th>\n",
       "      <td>7.236608</td>\n",
       "      <td>7.428572</td>\n",
       "      <td>6.803571</td>\n",
       "      <td>6.946428</td>\n",
       "      <td>4.651765</td>\n",
       "      <td>307176800.0</td>\n",
       "    </tr>\n",
       "    <tr>\n",
       "      <th>2000-01-10</th>\n",
       "      <td>7.089286</td>\n",
       "      <td>7.258929</td>\n",
       "      <td>6.794643</td>\n",
       "      <td>7.044642</td>\n",
       "      <td>4.717535</td>\n",
       "      <td>241449600.0</td>\n",
       "    </tr>\n",
       "    <tr>\n",
       "      <th>2000-01-11</th>\n",
       "      <td>7.069196</td>\n",
       "      <td>7.200893</td>\n",
       "      <td>6.616072</td>\n",
       "      <td>6.803571</td>\n",
       "      <td>4.556098</td>\n",
       "      <td>236653200.0</td>\n",
       "    </tr>\n",
       "    <tr>\n",
       "      <th>2000-01-12</th>\n",
       "      <td>6.819196</td>\n",
       "      <td>6.959821</td>\n",
       "      <td>6.321429</td>\n",
       "      <td>6.426339</td>\n",
       "      <td>4.303480</td>\n",
       "      <td>354404400.0</td>\n",
       "    </tr>\n",
       "    <tr>\n",
       "      <th>2000-01-13</th>\n",
       "      <td>6.767296</td>\n",
       "      <td>6.937500</td>\n",
       "      <td>6.392857</td>\n",
       "      <td>6.569196</td>\n",
       "      <td>4.399146</td>\n",
       "      <td>502188400.0</td>\n",
       "    </tr>\n",
       "    <tr>\n",
       "      <th>2000-01-14</th>\n",
       "      <td>6.945868</td>\n",
       "      <td>7.178572</td>\n",
       "      <td>6.852678</td>\n",
       "      <td>7.042411</td>\n",
       "      <td>4.716040</td>\n",
       "      <td>355765200.0</td>\n",
       "    </tr>\n",
       "  </tbody>\n",
       "</table>\n",
       "</div>"
      ],
      "text/plain": [
       "                Open      High       Low     Close  Adj Close       Volume\n",
       "Date                                                                      \n",
       "2000-01-03       NaN       NaN       NaN       NaN        NaN          NaN\n",
       "2000-01-04  7.611607  7.968750  7.245535  7.658482   5.128601  262043600.0\n",
       "2000-01-05  7.571428  7.899554  7.292410  7.375000   4.938763  322674800.0\n",
       "2000-01-06  7.495536  7.770090  7.071428  7.107143   4.759389  386573600.0\n",
       "2000-01-07  7.236608  7.428572  6.803571  6.946428   4.651765  307176800.0\n",
       "2000-01-10  7.089286  7.258929  6.794643  7.044642   4.717535  241449600.0\n",
       "2000-01-11  7.069196  7.200893  6.616072  6.803571   4.556098  236653200.0\n",
       "2000-01-12  6.819196  6.959821  6.321429  6.426339   4.303480  354404400.0\n",
       "2000-01-13  6.767296  6.937500  6.392857  6.569196   4.399146  502188400.0\n",
       "2000-01-14  6.945868  7.178572  6.852678  7.042411   4.716040  355765200.0"
      ]
     },
     "execution_count": 9,
     "metadata": {},
     "output_type": "execute_result"
    }
   ],
   "source": [
    "rp.sum(aapl, 2).head(10)"
   ]
  },
  {
   "cell_type": "code",
   "execution_count": 10,
   "metadata": {},
   "outputs": [
    {
     "data": {
      "text/html": [
       "<div>\n",
       "<style scoped>\n",
       "    .dataframe tbody tr th:only-of-type {\n",
       "        vertical-align: middle;\n",
       "    }\n",
       "\n",
       "    .dataframe tbody tr th {\n",
       "        vertical-align: top;\n",
       "    }\n",
       "\n",
       "    .dataframe thead th {\n",
       "        text-align: right;\n",
       "    }\n",
       "</style>\n",
       "<table border=\"1\" class=\"dataframe\">\n",
       "  <thead>\n",
       "    <tr style=\"text-align: right;\">\n",
       "      <th></th>\n",
       "      <th>Open</th>\n",
       "      <th>High</th>\n",
       "      <th>Low</th>\n",
       "      <th>Close</th>\n",
       "      <th>Adj Close</th>\n",
       "      <th>Volume</th>\n",
       "    </tr>\n",
       "    <tr>\n",
       "      <th>Date</th>\n",
       "      <th></th>\n",
       "      <th></th>\n",
       "      <th></th>\n",
       "      <th></th>\n",
       "      <th></th>\n",
       "      <th></th>\n",
       "    </tr>\n",
       "  </thead>\n",
       "  <tbody>\n",
       "    <tr>\n",
       "      <th>2000-01-03</th>\n",
       "      <td>NaN</td>\n",
       "      <td>NaN</td>\n",
       "      <td>NaN</td>\n",
       "      <td>NaN</td>\n",
       "      <td>NaN</td>\n",
       "      <td>NaN</td>\n",
       "    </tr>\n",
       "    <tr>\n",
       "      <th>2000-01-04</th>\n",
       "      <td>NaN</td>\n",
       "      <td>NaN</td>\n",
       "      <td>NaN</td>\n",
       "      <td>NaN</td>\n",
       "      <td>NaN</td>\n",
       "      <td>NaN</td>\n",
       "    </tr>\n",
       "    <tr>\n",
       "      <th>2000-01-05</th>\n",
       "      <td>NaN</td>\n",
       "      <td>NaN</td>\n",
       "      <td>NaN</td>\n",
       "      <td>NaN</td>\n",
       "      <td>NaN</td>\n",
       "      <td>NaN</td>\n",
       "    </tr>\n",
       "    <tr>\n",
       "      <th>2000-01-06</th>\n",
       "      <td>3.776786</td>\n",
       "      <td>3.934710</td>\n",
       "      <td>3.579241</td>\n",
       "      <td>3.691406</td>\n",
       "      <td>2.471997</td>\n",
       "      <td>162154300.0</td>\n",
       "    </tr>\n",
       "    <tr>\n",
       "      <th>2000-01-07</th>\n",
       "      <td>3.702009</td>\n",
       "      <td>3.832032</td>\n",
       "      <td>3.523995</td>\n",
       "      <td>3.580357</td>\n",
       "      <td>2.397632</td>\n",
       "      <td>157462900.0</td>\n",
       "    </tr>\n",
       "    <tr>\n",
       "      <th>2000-01-10</th>\n",
       "      <td>3.646206</td>\n",
       "      <td>3.757255</td>\n",
       "      <td>3.466518</td>\n",
       "      <td>3.537946</td>\n",
       "      <td>2.369231</td>\n",
       "      <td>157005800.0</td>\n",
       "    </tr>\n",
       "    <tr>\n",
       "      <th>2000-01-11</th>\n",
       "      <td>3.576451</td>\n",
       "      <td>3.657366</td>\n",
       "      <td>3.354911</td>\n",
       "      <td>3.437500</td>\n",
       "      <td>2.301966</td>\n",
       "      <td>135957500.0</td>\n",
       "    </tr>\n",
       "    <tr>\n",
       "      <th>2000-01-12</th>\n",
       "      <td>3.477121</td>\n",
       "      <td>3.554688</td>\n",
       "      <td>3.279018</td>\n",
       "      <td>3.367745</td>\n",
       "      <td>2.255254</td>\n",
       "      <td>148963500.0</td>\n",
       "    </tr>\n",
       "    <tr>\n",
       "      <th>2000-01-13</th>\n",
       "      <td>3.459123</td>\n",
       "      <td>3.534598</td>\n",
       "      <td>3.252232</td>\n",
       "      <td>3.343192</td>\n",
       "      <td>2.238811</td>\n",
       "      <td>184710400.0</td>\n",
       "    </tr>\n",
       "    <tr>\n",
       "      <th>2000-01-14</th>\n",
       "      <td>3.441266</td>\n",
       "      <td>3.534598</td>\n",
       "      <td>3.293527</td>\n",
       "      <td>3.367187</td>\n",
       "      <td>2.254880</td>\n",
       "      <td>177542400.0</td>\n",
       "    </tr>\n",
       "  </tbody>\n",
       "</table>\n",
       "</div>"
      ],
      "text/plain": [
       "                Open      High       Low     Close  Adj Close       Volume\n",
       "Date                                                                      \n",
       "2000-01-03       NaN       NaN       NaN       NaN        NaN          NaN\n",
       "2000-01-04       NaN       NaN       NaN       NaN        NaN          NaN\n",
       "2000-01-05       NaN       NaN       NaN       NaN        NaN          NaN\n",
       "2000-01-06  3.776786  3.934710  3.579241  3.691406   2.471997  162154300.0\n",
       "2000-01-07  3.702009  3.832032  3.523995  3.580357   2.397632  157462900.0\n",
       "2000-01-10  3.646206  3.757255  3.466518  3.537946   2.369231  157005800.0\n",
       "2000-01-11  3.576451  3.657366  3.354911  3.437500   2.301966  135957500.0\n",
       "2000-01-12  3.477121  3.554688  3.279018  3.367745   2.255254  148963500.0\n",
       "2000-01-13  3.459123  3.534598  3.252232  3.343192   2.238811  184710400.0\n",
       "2000-01-14  3.441266  3.534598  3.293527  3.367187   2.254880  177542400.0"
      ]
     },
     "execution_count": 10,
     "metadata": {},
     "output_type": "execute_result"
    }
   ],
   "source": [
    "rp.mean(aapl, 4).head(10)"
   ]
  },
  {
   "cell_type": "code",
   "execution_count": 11,
   "metadata": {},
   "outputs": [
    {
     "data": {
      "text/html": [
       "<div>\n",
       "<style scoped>\n",
       "    .dataframe tbody tr th:only-of-type {\n",
       "        vertical-align: middle;\n",
       "    }\n",
       "\n",
       "    .dataframe tbody tr th {\n",
       "        vertical-align: top;\n",
       "    }\n",
       "\n",
       "    .dataframe thead th {\n",
       "        text-align: right;\n",
       "    }\n",
       "</style>\n",
       "<table border=\"1\" class=\"dataframe\">\n",
       "  <thead>\n",
       "    <tr style=\"text-align: right;\">\n",
       "      <th></th>\n",
       "      <th>Open</th>\n",
       "      <th>High</th>\n",
       "      <th>Low</th>\n",
       "      <th>Close</th>\n",
       "      <th>Adj Close</th>\n",
       "      <th>Volume</th>\n",
       "    </tr>\n",
       "    <tr>\n",
       "      <th>Date</th>\n",
       "      <th></th>\n",
       "      <th></th>\n",
       "      <th></th>\n",
       "      <th></th>\n",
       "      <th></th>\n",
       "      <th></th>\n",
       "    </tr>\n",
       "  </thead>\n",
       "  <tbody>\n",
       "    <tr>\n",
       "      <th>2000-01-03</th>\n",
       "      <td>NaN</td>\n",
       "      <td>NaN</td>\n",
       "      <td>NaN</td>\n",
       "      <td>NaN</td>\n",
       "      <td>NaN</td>\n",
       "      <td>NaN</td>\n",
       "    </tr>\n",
       "    <tr>\n",
       "      <th>2000-01-04</th>\n",
       "      <td>NaN</td>\n",
       "      <td>NaN</td>\n",
       "      <td>NaN</td>\n",
       "      <td>NaN</td>\n",
       "      <td>NaN</td>\n",
       "      <td>NaN</td>\n",
       "    </tr>\n",
       "    <tr>\n",
       "      <th>2000-01-05</th>\n",
       "      <td>NaN</td>\n",
       "      <td>NaN</td>\n",
       "      <td>NaN</td>\n",
       "      <td>NaN</td>\n",
       "      <td>NaN</td>\n",
       "      <td>NaN</td>\n",
       "    </tr>\n",
       "    <tr>\n",
       "      <th>2000-01-06</th>\n",
       "      <td>203.363768</td>\n",
       "      <td>239.533019</td>\n",
       "      <td>163.803428</td>\n",
       "      <td>184.426908</td>\n",
       "      <td>37.089332</td>\n",
       "      <td>6.409958e+32</td>\n",
       "    </tr>\n",
       "    <tr>\n",
       "      <th>2000-01-07</th>\n",
       "      <td>187.123762</td>\n",
       "      <td>215.047438</td>\n",
       "      <td>153.836292</td>\n",
       "      <td>163.935003</td>\n",
       "      <td>32.968294</td>\n",
       "      <td>5.511956e+32</td>\n",
       "    </tr>\n",
       "    <tr>\n",
       "      <th>2000-01-10</th>\n",
       "      <td>176.319862</td>\n",
       "      <td>198.767019</td>\n",
       "      <td>144.049331</td>\n",
       "      <td>156.338009</td>\n",
       "      <td>31.440488</td>\n",
       "      <td>5.433279e+32</td>\n",
       "    </tr>\n",
       "    <tr>\n",
       "      <th>2000-01-11</th>\n",
       "      <td>163.042757</td>\n",
       "      <td>178.654338</td>\n",
       "      <td>126.567636</td>\n",
       "      <td>139.426434</td>\n",
       "      <td>28.039473</td>\n",
       "      <td>3.082348e+32</td>\n",
       "    </tr>\n",
       "    <tr>\n",
       "      <th>2000-01-12</th>\n",
       "      <td>145.951091</td>\n",
       "      <td>159.453140</td>\n",
       "      <td>115.243179</td>\n",
       "      <td>127.960438</td>\n",
       "      <td>25.733594</td>\n",
       "      <td>3.917565e+32</td>\n",
       "    </tr>\n",
       "    <tr>\n",
       "      <th>2000-01-13</th>\n",
       "      <td>142.902422</td>\n",
       "      <td>155.900972</td>\n",
       "      <td>111.622969</td>\n",
       "      <td>124.423853</td>\n",
       "      <td>25.022358</td>\n",
       "      <td>8.780786e+32</td>\n",
       "    </tr>\n",
       "    <tr>\n",
       "      <th>2000-01-14</th>\n",
       "      <td>140.100436</td>\n",
       "      <td>155.900972</td>\n",
       "      <td>117.071564</td>\n",
       "      <td>127.844745</td>\n",
       "      <td>25.710316</td>\n",
       "      <td>6.786878e+32</td>\n",
       "    </tr>\n",
       "  </tbody>\n",
       "</table>\n",
       "</div>"
      ],
      "text/plain": [
       "                  Open        High         Low       Close  Adj Close  \\\n",
       "Date                                                                    \n",
       "2000-01-03         NaN         NaN         NaN         NaN        NaN   \n",
       "2000-01-04         NaN         NaN         NaN         NaN        NaN   \n",
       "2000-01-05         NaN         NaN         NaN         NaN        NaN   \n",
       "2000-01-06  203.363768  239.533019  163.803428  184.426908  37.089332   \n",
       "2000-01-07  187.123762  215.047438  153.836292  163.935003  32.968294   \n",
       "2000-01-10  176.319862  198.767019  144.049331  156.338009  31.440488   \n",
       "2000-01-11  163.042757  178.654338  126.567636  139.426434  28.039473   \n",
       "2000-01-12  145.951091  159.453140  115.243179  127.960438  25.733594   \n",
       "2000-01-13  142.902422  155.900972  111.622969  124.423853  25.022358   \n",
       "2000-01-14  140.100436  155.900972  117.071564  127.844745  25.710316   \n",
       "\n",
       "                  Volume  \n",
       "Date                      \n",
       "2000-01-03           NaN  \n",
       "2000-01-04           NaN  \n",
       "2000-01-05           NaN  \n",
       "2000-01-06  6.409958e+32  \n",
       "2000-01-07  5.511956e+32  \n",
       "2000-01-10  5.433279e+32  \n",
       "2000-01-11  3.082348e+32  \n",
       "2000-01-12  3.917565e+32  \n",
       "2000-01-13  8.780786e+32  \n",
       "2000-01-14  6.786878e+32  "
      ]
     },
     "execution_count": 11,
     "metadata": {},
     "output_type": "execute_result"
    }
   ],
   "source": [
    "rp.prod(aapl, 4).head(10)"
   ]
  },
  {
   "cell_type": "code",
   "execution_count": 15,
   "metadata": {},
   "outputs": [
    {
     "data": {
      "text/plain": [
       "[<matplotlib.lines.Line2D at 0x1d3507af0f0>]"
      ]
     },
     "execution_count": 15,
     "metadata": {},
     "output_type": "execute_result"
    },
    {
     "data": {
      "image/png": "[encoded data removed]",
      "text/plain": [
       "<Figure size 432x288 with 1 Axes>"
      ]
     },
     "metadata": {
      "needs_background": "light"
     },
     "output_type": "display_data"
    }
   ],
   "source": [
    "# Rolling correlation between Apple and Msft\n",
    "plt.plot(rp.corr(rp.pct_change(aapl['Adj Close']), rp.pct_change(msft['Adj Close']), 252))"
   ]
  },
  {
   "cell_type": "code",
   "execution_count": 18,
   "metadata": {},
   "outputs": [
    {
     "data": {
      "text/plain": [
       "[<matplotlib.lines.Line2D at 0x1d350b13ba8>]"
      ]
     },
     "execution_count": 18,
     "metadata": {},
     "output_type": "execute_result"
    },
    {
     "data": {
      "image/png": "[encoded data removed]",
      "text/plain": [
       "<Figure size 432x288 with 1 Axes>"
      ]
     },
     "metadata": {
      "needs_background": "light"
     },
     "output_type": "display_data"
    }
   ],
   "source": [
    "plt.plot(rp.cumprod(1+rp.pct_change(aapl['Adj Close'])))"
   ]
  },
  {
   "cell_type": "code",
   "execution_count": 21,
   "metadata": {},
   "outputs": [
    {
     "data": {
      "text/plain": [
       "[<matplotlib.lines.Line2D at 0x1d350b47f98>]"
      ]
     },
     "execution_count": 21,
     "metadata": {},
     "output_type": "execute_result"
    },
    {
     "data": {
      "image/png": "[encoded data removed]",
      "text/plain": [
       "<Figure size 432x288 with 1 Axes>"
      ]
     },
     "metadata": {
      "needs_background": "light"
     },
     "output_type": "display_data"
    }
   ],
   "source": [
    "plt.plot(rp.median(aapl['Adj Close'], 252))\n",
    "plt.plot(rp.quantile(aapl['Adj Close'], 0.5, 252))"
   ]
  },
  {
   "cell_type": "code",
   "execution_count": 41,
   "metadata": {},
   "outputs": [
    {
     "data": {
      "text/plain": [
       "[<matplotlib.lines.Line2D at 0x1d351891e10>]"
      ]
     },
     "execution_count": 41,
     "metadata": {},
     "output_type": "execute_result"
    },
    {
     "data": {
      "image/png": "[encoded data removed]",
      "text/plain": [
       "<Figure size 432x288 with 1 Axes>"
      ]
     },
     "metadata": {
      "needs_background": "light"
     },
     "output_type": "display_data"
    }
   ],
   "source": [
    "# 60/40 equity / bond\n",
    "port_60_40 = 0.6*rp.pct_change(spy['Adj Close'])+0.4*rp.pct_change(ief['Adj Close'])\n",
    "port_60_40_vol_scaled = port_60_40 / rp.shift(rp.std(port_60_40, 252))\n",
    "plt.plot(rp.cumsum(port_60_40_vol_scaled))\n",
    "\n",
    "# risk parity w 1y vol lookback (this is crude - vol scaling should apply instantaneously not based on rolling window)\n",
    "risk_parity = \\\n",
    "    (rp.pct_change(spy['Adj Close']) / rp.std(rp.pct_change(spy['Adj Close']), 252)) \\\n",
    "    + (rp.pct_change(ief['Adj Close']) / rp.std(rp.pct_change(ief['Adj Close']), 252))\n",
    "risk_parity_vol = rp.std(risk_parity, 252)\n",
    "risk_parity_vol_scaled = risk_parity / rp.shift(risk_parity_vol)\n",
    "plt.plot(rp.cumsum(risk_parity_vol_scaled))\n"
   ]
  },
  {
   "cell_type": "code",
   "execution_count": 43,
   "metadata": {},
   "outputs": [
    {
     "data": {
      "text/plain": [
       "[<matplotlib.lines.Line2D at 0x1d351640b00>]"
      ]
     },
     "execution_count": 43,
     "metadata": {},
     "output_type": "execute_result"
    },
    {
     "data": {
      "image/png": "[encoded data removed]",
      "text/plain": [
       "<Figure size 432x288 with 1 Axes>"
      ]
     },
     "metadata": {
      "needs_background": "light"
     },
     "output_type": "display_data"
    }
   ],
   "source": [
    "# compare sharpe ratios\n",
    "port_60_40_sharpe = np.sqrt(252)*rp.mean(port_60_40, 252)/rp.std(port_60_40, 252)\n",
    "risk_parity_sharpe = np.sqrt(252)*rp.mean(risk_parity, 252)/rp.std(risk_parity, 252)\n",
    "plt.plot(port_60_40_sharpe)\n",
    "plt.plot(risk_parity_sharpe)"
   ]
  }
 ],
 "metadata": {
  "kernelspec": {
   "display_name": "Python 3",
   "language": "python",
   "name": "python3"
  },
  "language_info": {
   "codemirror_mode": {
    "name": "ipython",
    "version": 3
   },
   "file_extension": ".py",
   "mimetype": "text/x-python",
   "name": "python",
   "nbconvert_exporter": "python",
   "pygments_lexer": "ipython3",
   "version": "3.7.2"
  }
 },
 "nbformat": 4,
 "nbformat_minor": 2
}
